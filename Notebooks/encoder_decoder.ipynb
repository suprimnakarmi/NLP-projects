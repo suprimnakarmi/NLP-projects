{
 "cells": [
  {
   "attachments": {},
   "cell_type": "markdown",
   "metadata": {},
   "source": [
    "# Encoder decoder Network\n",
    "### This notebook depicts the implementation of a encoder decoder network for seqeunce to sequence task. "
   ]
  },
  {
   "cell_type": "code",
   "execution_count": 3,
   "metadata": {},
   "outputs": [],
   "source": [
    "from random import randint\n",
    "import numpy as np \n",
    "from keras.utils import to_categorical\n",
    "from keras.models import Model \n",
    "from keras.layers import Input\n",
    "from keras.layers import LSTM \n",
    "from keras.layers import Dense"
   ]
  },
  {
   "cell_type": "code",
   "execution_count": null,
   "metadata": {},
   "outputs": [],
   "source": [
    "n_features = 50+1 \n",
    "# generate a sequence of random integers \n",
    "def generate_sequence(length, n_unique):\n",
    "    return [randint(1, n_unique-1) for _ in range(length)]\n",
    "\n",
    "# Prepare data for the LSTM\n",
    "def get_dataset(n_in, n_out, cardinality, n_samples):\n",
    "    x1, x2, y = [],[],[]\n",
    "    for _ in range(n_samples):\n",
    "\n",
    "# generate source sequence \n",
    "        source = generate_sequence(n_in, cardinality)\n",
    "\n",
    "# define target sequence \n",
    "        target = source[:n_out]\n",
    "        target.reverse()\n",
    "\n",
    "# create padded input target sequence \n",
    "        target_in = [0] + target[:-1]\n",
    "        src_encoded = to_categorical([source], num_classes=cardinality)\n",
    "        tar_encoded = to_categorical([target], num_classes=cardinality)\n",
    "        tar2_encoded = to_categorical([target_in], num_classes=cardinality)\n",
    "# store \n",
    "        x1.append(src_encoded)\n",
    "        x2.append(tar2_encoded)\n",
    "        y.append(tar_encoded)\n",
    "    \n",
    "    return np.array(x1), np.array(x2), np.array(y)"
   ]
  },
  {
   "cell_type": "code",
   "execution_count": null,
   "metadata": {},
   "outputs": [],
   "source": [
    "# decode a one hot encoded string\n",
    "def one_hot_decode(encoded_seq):\n",
    "    return [np.argmax(vector) for vector in encoded_seq]\n",
    "\n",
    "# configure problem \n",
    "n_features = 50 + 1\n",
    "n_steps_in = 6 \n",
    "n_steps_out = 3 \n",
    "\n",
    "# generate a single source and target sequence \n",
    "x1, x2, y = get_dataset(n_steps_in, n_steps_out, n_features, 1)\n",
    "\n",
    "print(x1.shape, x2.shape, y.shape)\n",
    "print(f\"X1={one_hot_decode(x1[0])}, X2={one_hot_decode(x2[0])}, y= {one_hot_decode(y[0])}\")"
   ]
  },
  {
   "cell_type": "code",
   "execution_count": null,
   "metadata": {},
   "outputs": [],
   "source": []
  },
  {
   "cell_type": "code",
   "execution_count": 1,
   "metadata": {},
   "outputs": [
    {
     "ename": "SyntaxError",
     "evalue": "incomplete input (1554821188.py, line 1)",
     "output_type": "error",
     "traceback": [
      "\u001b[0;36m  Cell \u001b[0;32mIn[1], line 1\u001b[0;36m\u001b[0m\n\u001b[0;31m    def define_models(n_input, n_output, n_units):\u001b[0m\n\u001b[0m                                                  ^\u001b[0m\n\u001b[0;31mSyntaxError\u001b[0m\u001b[0;31m:\u001b[0m incomplete input\n"
     ]
    }
   ],
   "source": [
    "# returns train, inference_encoder and inference_decoder models\n",
    "def define_models(n_input, n_output, n_units):\n",
    "    '''\n",
    "    n_input: The cardiantly of the inpute sequence \n",
    "    n_output: The cardinality of the output sequence \n",
    "    n_units: The number of cells to create in the encoder and decoder models. \n",
    "    '''\n",
    "    # define training encoder\n",
    "    encoder_inputs = Input(shape=(None, n_input))\n",
    "    encoder = LSTM(n_units, return_state=True)\n",
    "    encoder_outputs, state_h, state_c = encoder(encoder_inputs)\n",
    "    encoder_states=[state_h, state_c]\n",
    "\n",
    "    #define training decoder\n",
    "    decoder_inputs = Input(shape=(None, n_output))\n",
    "    decoder_lstm = LSTM(n_units, return_sequences=True, return_state=True)\n",
    "    decoder_outputs, _, _ = decoder_lstm(decoder_inputs, initial_state=encoder_states)\n",
    "    decoder_dense = Dense(n_output, activation='softmax')\n",
    "    decoder_outputs = decoder_dense(decoder_outputs)\n",
    "    model = Model([encoder_inputs, decoder_inputs], decoder_outputs)\n",
    "\n",
    "    # define inference encoder \n",
    "    encoder_model = Model(encoder_inputs, encoder_states)\n",
    "\n",
    "    # define inference decoder \n",
    "    decoder_state_input_h = Input(shape=(n_units,))\n",
    "    decoder_state_input_c = Input(shape=(n_units,))\n",
    "    decoder_states_inputs = [decoder_state_input_h, decoder_state_input_c]\n",
    "    decoder_outputs, state_h, state_c = decoder_lstm(decoder_inputs,initial_state=decoder_states_inputs)\n",
    "    decoder_states = [state_h, state_c]\n",
    "    decoder_outputs = decoder_dense(decoder_outputs)\n",
    "    decoder_model = Model([decoder_inputs] + decoder_states_inputs, [decoder_outputs] + decoder_states)\n",
    "    \n",
    "    # return all models\n",
    "    return model, encoder_model, decoder_model"
   ]
  },
  {
   "cell_type": "code",
   "execution_count": null,
   "metadata": {},
   "outputs": [],
   "source": [
    "# generate target given source sequence \n",
    "def predict_sequeence(infenc, infdec, source, n_steps, cardinality):\n",
    "    '''\n",
    "    infenc: Encoder model used when making a prediction for a new source sequence \n",
    "    infdec: Decoder model used when making a prediction for a new source sequence \n",
    "    source: Encoded source sequence \n",
    "    n_steps: Number of time stpes in the target sequence\n",
    "    cardinality: The cardinality of the output sequence, e.g. the number of features, words, or characters for each time step \n",
    "    '''\n",
    "# encode\n",
    "    state = infenc.predict(source)\n",
    "# start of sequence input\n",
    "    target_seq = np.array([0.0 for _ in range(cardinality)]).reshape(1,1,cardinality)\n",
    "# collect predictions \n",
    "    output = list()\n",
    "    for t in range(n_steps):\n",
    "# predict next char \n",
    "        yhat, h, c = infdec.predict([target_seq] + state)\n",
    "# store prediction \n",
    "        output.append(yhat[0,0,:])\n",
    "# update state \n",
    "        state = [h,c]\n",
    "# update target sequence \n",
    "        target_seq = yhat \n",
    "        return np.array(output)"
   ]
  },
  {
   "cell_type": "code",
   "execution_count": null,
   "metadata": {},
   "outputs": [],
   "source": []
  },
  {
   "cell_type": "code",
   "execution_count": null,
   "metadata": {},
   "outputs": [],
   "source": []
  },
  {
   "cell_type": "code",
   "execution_count": null,
   "metadata": {},
   "outputs": [],
   "source": []
  },
  {
   "cell_type": "code",
   "execution_count": null,
   "metadata": {},
   "outputs": [],
   "source": []
  }
 ],
 "metadata": {
  "kernelspec": {
   "display_name": "nlp-tensorflow",
   "language": "python",
   "name": "python3"
  },
  "language_info": {
   "codemirror_mode": {
    "name": "ipython",
    "version": 3
   },
   "file_extension": ".py",
   "mimetype": "text/x-python",
   "name": "python",
   "nbconvert_exporter": "python",
   "pygments_lexer": "ipython3",
   "version": "3.10.14"
  },
  "orig_nbformat": 4
 },
 "nbformat": 4,
 "nbformat_minor": 2
}
