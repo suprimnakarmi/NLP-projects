{
 "cells": [
  {
   "cell_type": "code",
   "execution_count": 3,
   "metadata": {},
   "outputs": [],
   "source": [
    "import numpy as np \n",
    "import pandas as pd\n",
    "import re\n",
    "\n",
    "import nltk\n",
    "from nltk.tokenize import word_tokenize\n",
    "from nltk.corpus import stopwords\n",
    "from nltk.stem import PorterStemmer\n",
    "from nltk.stem import WordNetLemmatizer\n",
    "from spellchecker import spellchecker\n",
    "from nltk import FreqDist\n",
    "\n",
    "# from sklearn.feature_extraction.text import TfidfVectorizer \n",
    "\n",
    "# from tensorflow.keras.preprocessing.text import Tokenizer \n",
    "# from tensorflow.keras.preprocessing.sequence import pad_sequences "
   ]
  },
  {
   "cell_type": "code",
   "execution_count": 10,
   "metadata": {},
   "outputs": [],
   "source": [
    "file=pd.read_csv(r\"../coronavirus_tweets_classification/Corona_NLP_train.csv\", encoding='latin-1')\n",
    "texts=file['OriginalTweet']"
   ]
  },
  {
   "attachments": {},
   "cell_type": "markdown",
   "metadata": {},
   "source": [
    "### Text preprocessing"
   ]
  },
  {
   "attachments": {},
   "cell_type": "markdown",
   "metadata": {},
   "source": [
    "1. Lower casing"
   ]
  },
  {
   "cell_type": "code",
   "execution_count": 13,
   "metadata": {},
   "outputs": [
    {
     "name": "stdout",
     "output_type": "stream",
     "text": [
      "@menyrbie @phil_gahan @chrisitv https://t.co/ifz9fan2pa and https://t.co/xx6ghgfzcc and https://t.co/i2nlzdxno8\n",
      "['Tokenization', 'is', 'an', 'essential', 'step', 'in', 'NLP', '.']\n",
      "['Tokenization', 'essential', 'step', 'NLP', '.']\n"
     ]
    }
   ],
   "source": [
    "lowercased_text =texts[0].lower()\n",
    "print(lowercased_text)\n",
    "\n",
    "#2 Tokenization \n",
    "text = \"Tokenization is an essential step in NLP.\"\n",
    "tokens = word_tokenize(text)\n",
    "print(tokens)\n",
    "\n",
    "# 3 Stop word removal \n",
    "stop_words = set(stopwords.words('english'))\n",
    "filtered_tokens = [word for word in tokens if word not in stop_words]\n",
    "print(filtered_tokens)\n",
    "\n",
    "# 4 Lemmatiztion/ Stemming \n",
    "from nltk.stem import PorterStemmer\n",
    "stemmer = PorterStemmer()\n",
    "stemmed_tokens = [stemmer.stem(word) for word in tokens]\n",
    "print(\"Stemming:\")\n",
    "print(stemmed_tokens)\n",
    "\n",
    "from nltk.stem import WordNetLemmatizer\n",
    "lemmatizer = WordNetLemmatizer()\n",
    "lemmatized_tokens = [lemmatizer.lemmatize(word) for word in tokens]\n",
    "print(\"Lemmatization:\")\n",
    "print(lemmatized_tokens)\n",
    "print(\"\\n---\\n\")\n",
    "\n",
    "# 5 Spelling correction\n",
    "\n",
    "# Create a SpellChecker instance\n",
    "spell = SpellChecker()\n",
    "# Tokenize the text into words\n",
    "words = texts[0].split()\n",
    "# Identify misspelled words\n",
    "misspelled = spell.unknown(words)\n",
    "# Correct misspelled words\n",
    "corrected_text = [spell.correction(word) if word in misspelled else word for word in words]\n",
    "# Join the corrected words back into a string\n",
    "corrected_text = ' '.join(corrected_text)\n",
    "\n",
    "print(corrected_text)\n",
    "\n",
    "# 6 POS tagging\n",
    "\n",
    "tokens = word_tokenize(text)\n",
    "pos_tags = nltk.pos_tag(tokens)\n",
    "\n",
    "print(pos_tags)"
   ]
  },
  {
   "cell_type": "code",
   "execution_count": null,
   "metadata": {},
   "outputs": [],
   "source": []
  }
 ],
 "metadata": {
  "kernelspec": {
   "display_name": "nlp",
   "language": "python",
   "name": "python3"
  },
  "language_info": {
   "codemirror_mode": {
    "name": "ipython",
    "version": 3
   },
   "file_extension": ".py",
   "mimetype": "text/x-python",
   "name": "python",
   "nbconvert_exporter": "python",
   "pygments_lexer": "ipython3",
   "version": "3.12.0"
  },
  "orig_nbformat": 4
 },
 "nbformat": 4,
 "nbformat_minor": 2
}
