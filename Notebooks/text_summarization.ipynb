{
 "cells": [
  {
   "attachments": {},
   "cell_type": "markdown",
   "metadata": {},
   "source": [
    "##### Understanding the text and sentence based tokenization in NLP using an example of text summarization. Tokenization is the process of breaking the text into simple readable (or digestable) chunks such that it is easier for computer to have better insight of text later on in NLP tasks. The chunks can be character, word, or sentence. "
   ]
  },
  {
   "cell_type": "code",
   "execution_count": 27,
   "metadata": {},
   "outputs": [],
   "source": [
    "from nltk.corpus import stopwords\n",
    "from nltk.tokenize import word_tokenize, sent_tokenize"
   ]
  },
  {
   "cell_type": "code",
   "execution_count": 28,
   "metadata": {},
   "outputs": [],
   "source": [
    "text =\"There are many techniques available to generate extractive summarization to keep it simple, I will be using an unsupervised learning approach to find the sentences similarity and rank them. Summarization can be defined as a task of producing a concise and fluent summary while preserving key information and overall meaning. One benefit of this will be, you don’t need to train and build a model prior start using it for your project. It’s good to understand Cosine similarity to make the best use of the code you are going to see. Cosine similarity is a measure of similarity between two non-zero vectors of an inner product space that measures the cosine of the angle between them. Its measures cosine of the angle between vectors. The angle will be 0 if sentences are similar.\""
   ]
  },
  {
   "cell_type": "code",
   "execution_count": 29,
   "metadata": {},
   "outputs": [],
   "source": [
    "stop_words = set(stopwords.words(\"english\"))  # view the predefined stop word in the mentioned language\n",
    "words = word_tokenize(text)  # Tokenize based on text\n",
    "freq_table = dict() "
   ]
  },
  {
   "cell_type": "code",
   "execution_count": 30,
   "metadata": {},
   "outputs": [],
   "source": [
    "for word in words: # Loop over all the words in text\n",
    "    word = word.lower()\n",
    "    if word in stop_words:    # Don't include the stop_words in the dictionary\n",
    "        continue\n",
    "    if word in freq_table:     # Record frequency of each word\n",
    "        freq_table[word] +=1\n",
    "    else:\n",
    "        freq_table[word] = 1"
   ]
  },
  {
   "cell_type": "code",
   "execution_count": 31,
   "metadata": {},
   "outputs": [],
   "source": [
    "sentences = sent_tokenize(text)   # Tokenize text sentence wise\n",
    "sentence_value= dict()"
   ]
  },
  {
   "cell_type": "code",
   "execution_count": 32,
   "metadata": {},
   "outputs": [
    {
     "name": "stdout",
     "output_type": "stream",
     "text": [
      "['There are many techniques available to generate extractive summarization to keep it simple, I will be using an unsupervised learning approach to find the sentences similarity and rank them.', 'Summarization can be defined as a task of producing a concise and fluent summary while preserving key information and overall meaning.', 'One benefit of this will be, you don’t need to train and build a model prior start using it for your project.', 'It’s good to understand Cosine similarity to make the best use of the code you are going to see.', 'Cosine similarity is a measure of similarity between two non-zero vectors of an inner product space that measures the cosine of the angle between them.', 'Its measures cosine of the angle between vectors.', 'The angle will be 0 if sentences are similar.']\n"
     ]
    }
   ],
   "source": [
    "print(sentences)"
   ]
  },
  {
   "cell_type": "code",
   "execution_count": 33,
   "metadata": {},
   "outputs": [],
   "source": [
    "for sentence in sentences:      # Set score to each sentence based on the inclusion of each word in text\n",
    "    for word, freq in freq_table.items():\n",
    "        if word in sentence.lower():\n",
    "            if sentence in sentence_value:\n",
    "                sentence_value[sentence] += freq\n",
    "            else:\n",
    "                sentence_value[sentence] = freq"
   ]
  },
  {
   "cell_type": "code",
   "execution_count": 34,
   "metadata": {},
   "outputs": [
    {
     "name": "stdout",
     "output_type": "stream",
     "text": [
      "{'There are many techniques available to generate extractive summarization to keep it simple, I will be using an unsupervised learning approach to find the sentences similarity and rank them.': 32, 'Summarization can be defined as a task of producing a concise and fluent summary while preserving key information and overall meaning.': 20, 'One benefit of this will be, you don’t need to train and build a model prior start using it for your project.': 22, 'It’s good to understand Cosine similarity to make the best use of the code you are going to see.': 26, 'Cosine similarity is a measure of similarity between two non-zero vectors of an inner product space that measures the cosine of the angle between them.': 29, 'Its measures cosine of the angle between vectors.': 19, 'The angle will be 0 if sentences are similar.': 14}\n"
     ]
    }
   ],
   "source": [
    "print(sentence_value)"
   ]
  },
  {
   "cell_type": "code",
   "execution_count": 35,
   "metadata": {},
   "outputs": [],
   "source": [
    "sum_values = 0  # Get the average score for the sentences\n",
    "for sentence in sentence_value:\n",
    "    sum_values += sentence_value[sentence]\n",
    "average = int(sum_values/len(sentence_value))"
   ]
  },
  {
   "cell_type": "code",
   "execution_count": 39,
   "metadata": {},
   "outputs": [
    {
     "data": {
      "text/plain": [
       "23"
      ]
     },
     "execution_count": 39,
     "metadata": {},
     "output_type": "execute_result"
    }
   ],
   "source": [
    "average"
   ]
  },
  {
   "cell_type": "code",
   "execution_count": 40,
   "metadata": {},
   "outputs": [
    {
     "name": "stdout",
     "output_type": "stream",
     "text": [
      " There are many techniques available to generate extractive summarization to keep it simple, I will be using an unsupervised learning approach to find the sentences similarity and rank them. Cosine similarity is a measure of similarity between two non-zero vectors of an inner product space that measures the cosine of the angle between them.\n"
     ]
    }
   ],
   "source": [
    "summary = ''   # Write summary of the sentence\n",
    "for sentence in sentences:\n",
    "    if (sentence in sentence_value) and (sentence_value[sentence] > (1.2 * average)):\n",
    "        summary += \" \" + sentence\n",
    "print(summary)"
   ]
  }
 ],
 "metadata": {
  "kernelspec": {
   "display_name": "nlp",
   "language": "python",
   "name": "python3"
  },
  "language_info": {
   "codemirror_mode": {
    "name": "ipython",
    "version": 3
   },
   "file_extension": ".py",
   "mimetype": "text/x-python",
   "name": "python",
   "nbconvert_exporter": "python",
   "pygments_lexer": "ipython3",
   "version": "3.12.0"
  },
  "orig_nbformat": 4
 },
 "nbformat": 4,
 "nbformat_minor": 2
}
